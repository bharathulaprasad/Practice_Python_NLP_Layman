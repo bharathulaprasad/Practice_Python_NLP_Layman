{
 "cells": [
  {
   "cell_type": "code",
   "execution_count": 1,
   "metadata": {},
   "outputs": [
    {
     "name": "stdout",
     "output_type": "stream",
     "text": [
      "1\n",
      "2\n",
      "3\n",
      "4\n",
      "5\n"
     ]
    }
   ],
   "source": [
    "my_list =[1,2,3,4,5]\n",
    "for value in my_list:\n",
    "    print(value)"
   ]
  },
  {
   "cell_type": "code",
   "execution_count": 4,
   "metadata": {},
   "outputs": [
    {
     "name": "stdout",
     "output_type": "stream",
     "text": [
      "a -- > 4\n",
      "dumpty -- > 1\n",
      "humpty -- > 0\n",
      "on -- > 3\n",
      "sat -- > 2\n",
      "wall -- > 5\n"
     ]
    }
   ],
   "source": [
    "my_dict={\"humpty\":0, \"dumpty\":1,  \"sat\":2 , \"on\": 3, \"a\": 4, \"wall\": 5}\n",
    "for foo, bar in sorted(my_dict.items()):\n",
    "    print(\"%s -- > %r\" % (foo,bar))"
   ]
  },
  {
   "cell_type": "code",
   "execution_count": 6,
   "metadata": {},
   "outputs": [
    {
     "name": "stdout",
     "output_type": "stream",
     "text": [
      "ohhlala -- > 11\n"
     ]
    }
   ],
   "source": [
    "from collections import defaultdict\n",
    "my_dict=defaultdict(lambda: 0)\n",
    "my_dict[\"ohhlala\"]= 11\n",
    "for foo, bar in sorted(my_dict.items()):\n",
    "    print(\"%s -- > %r\" % (foo,bar))"
   ]
  },
  {
   "cell_type": "code",
   "execution_count": 7,
   "metadata": {},
   "outputs": [
    {
     "name": "stdout",
     "output_type": "stream",
     "text": [
      "3\n"
     ]
    }
   ],
   "source": [
    "def add(x,y):\n",
    "    return x+y\n",
    "print(add(1,2))"
   ]
  },
  {
   "cell_type": "code",
   "execution_count": 14,
   "metadata": {},
   "outputs": [
    {
     "name": "stdout",
     "output_type": "stream",
     "text": [
      "4.605170185988092\n",
      "2.0\n"
     ]
    }
   ],
   "source": [
    "import math\n",
    "print(math.log(100))\n",
    "print(math.log(100,10))"
   ]
  },
  {
   "cell_type": "code",
   "execution_count": 17,
   "metadata": {},
   "outputs": [
    {
     "name": "stdout",
     "output_type": "stream",
     "text": [
      "['</s>', 'this', 'is', 'a', 'pen', '</s>']\n"
     ]
    }
   ],
   "source": [
    "my_words=[\"this\",\"is\",\"a\",\"pen\"]\n",
    "my_words.append(\"</s>\")\n",
    "my_words.insert(0,\"</s>\")\n",
    "print(my_words)"
   ]
  },
  {
   "cell_type": "code",
   "execution_count": null,
   "metadata": {},
   "outputs": [],
   "source": []
  }
 ],
 "metadata": {
  "kernelspec": {
   "display_name": "Python 3",
   "language": "python",
   "name": "python3"
  },
  "language_info": {
   "codemirror_mode": {
    "name": "ipython",
    "version": 3
   },
   "file_extension": ".py",
   "mimetype": "text/x-python",
   "name": "python",
   "nbconvert_exporter": "python",
   "pygments_lexer": "ipython3",
   "version": "3.8.5"
  }
 },
 "nbformat": 4,
 "nbformat_minor": 4
}
